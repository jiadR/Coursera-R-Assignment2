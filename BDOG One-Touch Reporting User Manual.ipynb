{
 "cells": [
  {
   "cell_type": "markdown",
   "metadata": {},
   "source": [
    "# Enviornment and Software Setup"
   ]
  },
  {
   "cell_type": "markdown",
   "metadata": {},
   "source": [
    "## Required Installations - R and LaTex Environment"
   ]
  },
  {
   "attachments": {},
   "cell_type": "markdown",
   "metadata": {},
   "source": [
    "1. Install base R programming language: [Download](http://lib.stat.cmu.edu/R/CRAN/)\n",
    "2. Install RStudio Desktop (Open Source Edition): [Download](https://rstudio.com/products/rstudio/)\n",
    "3. Install RMarkdown:\n",
    "    * Click the create new file icon on the top left corner and select R Markdown.\n",
    "    * A window would pop up and ask you to install certain packages, follow the instruction.\n",
    "    * You can click cancel after the packages are installed. \n",
    "    \n",
    "<img src='b.png' style='width:500px'>\n",
    "\n",
    "\n",
    "4. Install LaTex: \n",
    "    * In R Console, run commend install.packages('tinytex').\n",
    "    * After the tinytex is installed, run commend tinytex::install_tinytex().\n",
    "5. Install R packages:\n",
    "    * When BDOGOneTouchReporting.Rmd is opened, RStudio will raise a warning message if there is one or more packages not installed. Click install and all the required packages should be installed automatically.\n",
    "    \n",
    "<img src='a.png' style='width:500px'>\n",
    "\n",
    "Additional resource for R and RStudio installation: [Tutorial](https://owi.usgs.gov/R/training-curriculum/installr/)"
   ]
  },
  {
   "cell_type": "markdown",
   "metadata": {},
   "source": [
    "# Steps"
   ]
  },
  {
   "cell_type": "markdown",
   "metadata": {},
   "source": [
    "## Keep all the files in the same folder"
   ]
  },
  {
   "cell_type": "markdown",
   "metadata": {},
   "source": [
    "Make sure the documents below are saved in the same folder and are in the exact same names listed:\n",
    "1. Master Portfolio Tracking.xlsx\n",
    "2. Master Portfolio Funnel.xlsx\n",
    "3. template.Rmd\n",
    "4. BDOGOneTouchReporting.Rmd\n",
    "5. ExLetter.pdf (This is Alyscia's letter)\n",
    "6. BDOGLOGO.png"
   ]
  },
  {
   "cell_type": "markdown",
   "metadata": {},
   "source": [
    "## Run BDOGOneTouchReporting.Rmd"
   ]
  },
  {
   "cell_type": "markdown",
   "metadata": {},
   "source": [
    "* There is only one action needed from user every time the report is generated. In line 84, replace listed date with current date.\n",
    "\n",
    "<img src='c.png' style='width:500px'>\n",
    "\n",
    "* After the date is changed, click the Knit icon on the top (not the dropdown triangle)\n",
    "\n",
    "<img src='d.png' style='width:500px'>\n",
    "\n",
    "* The PDF report should now be generating."
   ]
  },
  {
   "cell_type": "markdown",
   "metadata": {},
   "source": [
    "## Replace Cover Sheet"
   ]
  },
  {
   "cell_type": "markdown",
   "metadata": {},
   "source": [
    "After the report is generated, delete the first page and replace it with the proper cover sheet by PDF editor."
   ]
  }
 ],
 "metadata": {
  "kernelspec": {
   "display_name": "Python 3",
   "language": "python",
   "name": "python3"
  },
  "language_info": {
   "codemirror_mode": {
    "name": "ipython",
    "version": 3
   },
   "file_extension": ".py",
   "mimetype": "text/x-python",
   "name": "python",
   "nbconvert_exporter": "python",
   "pygments_lexer": "ipython3",
   "version": "3.8.3"
  }
 },
 "nbformat": 4,
 "nbformat_minor": 4
}
